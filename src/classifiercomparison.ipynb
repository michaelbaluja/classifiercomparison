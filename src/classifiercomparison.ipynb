{
 "cells": [
  {
   "cell_type": "markdown",
   "metadata": {},
   "source": [
    "# B.1 Classifier Training"
   ]
  },
  {
   "cell_type": "markdown",
   "metadata": {},
   "source": [
    "## General Imports"
   ]
  },
  {
   "cell_type": "code",
   "execution_count": null,
   "metadata": {},
   "outputs": [],
   "source": [
    "# Install statements for all utilized libraries (uncomment which are needed)\n",
    "#!pip3 install pandas # installs numpy with it \n",
    "#!pip3 install numpy\n",
    "#!pip3 install pickle\n",
    "#!pip3 install sklearn\n",
    "#!pip3 install nltk"
   ]
  },
  {
   "cell_type": "code",
   "execution_count": null,
   "metadata": {},
   "outputs": [],
   "source": [
    "# Data Handling\n",
    "import pandas as pd\n",
    "import numpy as np\n",
    "\n",
    "# ML\n",
    "# Classifiers\n",
    "from sklearn.svm import SVC\n",
    "from sklearn.linear_model import LogisticRegression\n",
    "from sklearn.ensemble import RandomForestClassifier\n",
    "\n",
    "from modeltrainer import ModelTrainer"
   ]
  },
  {
   "cell_type": "code",
   "execution_count": null,
   "metadata": {},
   "outputs": [],
   "source": [
    "def get_clf_and_metrics(modeltrainer, param_grid, datasets):\n",
    "    \"\"\"\n",
    "    Returns classifiers and metrics for each dataset\n",
    "    \n",
    "    Params:\n",
    "    - modeltrainer: (modeltrainer.ModelTrainer)\n",
    "    - param_grid: (dict)\n",
    "    - datasets: (list-like)\n",
    "    \"\"\"\n",
    "    \n",
    "    clf_dict = dict()\n",
    "    metric_dict = dict()\n",
    "\n",
    "    for dataset in datasets:\n",
    "        print('Currently training:', dataset)\n",
    "        modeltrainer.load_dataset(dataset)\n",
    "\n",
    "        clf_dict[dataset] = modeltrainer.get_best_model(param_grid)\n",
    "        metric_dict[dataset] = modeltrainer.get_metric_dict()\n",
    "        \n",
    "    return clf_dict, metric_dict"
   ]
  },
  {
   "cell_type": "code",
   "execution_count": null,
   "metadata": {},
   "outputs": [],
   "source": [
    "datasets = ['yelp', 'subjectivity_objectivity', 'clickbait']"
   ]
  },
  {
   "cell_type": "markdown",
   "metadata": {},
   "source": [
    "### SVM"
   ]
  },
  {
   "cell_type": "code",
   "execution_count": null,
   "metadata": {},
   "outputs": [],
   "source": [
    "# Create grid of parameters to search over for SVM\n",
    "c_vals = [1e-7, 1e-6, 1e-5, 1e-4, 1e-3, 1e-2, 1e-1, 1e0, 1e1, 1e2, 1e3]\n",
    "svc_param_grid = [{'kernel': ['linear'], \n",
    "                   'C': c_vals}, \n",
    "                  {'kernel': ['poly'], \n",
    "                   'degree': [2,3], \n",
    "                   'C': c_vals}, \n",
    "                  {'kernel': ['rbf'], \n",
    "                   'gamma': [0, 0.001, 0.005, 0.01, 0.05, 0.1, 0.5, 1, 2], \n",
    "                   'C': c_vals}]"
   ]
  },
  {
   "cell_type": "code",
   "execution_count": null,
   "metadata": {},
   "outputs": [],
   "source": [
    "# Create classifier, and then find best parameters via cv grid search\n",
    "svc = SVC()\n",
    "svc_modeltrainer = ModelTrainer(svc)"
   ]
  },
  {
   "cell_type": "code",
   "execution_count": null,
   "metadata": {},
   "outputs": [],
   "source": [
    "svc_clf_dict, svc_metric_dict = get_clf_and_metrics(svc_modeltrainer, svc_param_grid, datasets)"
   ]
  },
  {
   "cell_type": "markdown",
   "metadata": {},
   "source": [
    "## Logistic Regression"
   ]
  },
  {
   "cell_type": "code",
   "execution_count": null,
   "metadata": {},
   "outputs": [],
   "source": [
    "# Creates LogisticRegression parameter grid\n",
    "logreg_param_grid = [{'penalty': ['l2'], \n",
    "                      'C': [1e-8, 1e-7, 1e-6, 1e-5, 1e-4, 1e-3, 1e-2, 1e-1, 1e0, 1e1, 1e2, 1e3, 1e4]}, \n",
    "                     {'penalty': ['none']}]"
   ]
  },
  {
   "cell_type": "code",
   "execution_count": null,
   "metadata": {},
   "outputs": [],
   "source": [
    "# Create classifier, and modeltrainer\n",
    "logreg = LogisticRegression()\n",
    "logreg_modeltrainer = ModelTrainer(logreg)"
   ]
  },
  {
   "cell_type": "code",
   "execution_count": null,
   "metadata": {},
   "outputs": [],
   "source": [
    "logreg_clf_dict, logreg_metric_dict = get_clf_and_metrics(logreg_modeltrainer, logreg_param_grid, datasets)"
   ]
  },
  {
   "cell_type": "markdown",
   "metadata": {},
   "source": [
    "## Random Forest"
   ]
  },
  {
   "cell_type": "code",
   "execution_count": null,
   "metadata": {},
   "outputs": [],
   "source": [
    "# Creates Random Forest parameter grid\n",
    "rf_param_grid = {'n_estimators': [128, 256, 512, 1024, 2048, 4096, 8192, 16384], \n",
    "                           'max_features': [1]}"
   ]
  },
  {
   "cell_type": "code",
   "execution_count": null,
   "metadata": {},
   "outputs": [],
   "source": [
    "# Create classifier, and modeltrainer\n",
    "rf = RandomForestClassifier()\n",
    "rf_modeltrainer = ModelTrainer(rf)"
   ]
  },
  {
   "cell_type": "code",
   "execution_count": null,
   "metadata": {
    "jupyter": {
     "source_hidden": true
    }
   },
   "outputs": [],
   "source": [
    "rf_clf_dict, rf_metric_dict = get_clf_and_metrics(rf_modeltrainer, rf_param_grid, datasets)"
   ]
  }
 ],
 "metadata": {
  "kernelspec": {
   "display_name": "Python 3",
   "language": "python",
   "name": "python3"
  },
  "language_info": {
   "codemirror_mode": {
    "name": "ipython",
    "version": 3
   },
   "file_extension": ".py",
   "mimetype": "text/x-python",
   "name": "python",
   "nbconvert_exporter": "python",
   "pygments_lexer": "ipython3",
   "version": "3.8.8"
  }
 },
 "nbformat": 4,
 "nbformat_minor": 4
}
