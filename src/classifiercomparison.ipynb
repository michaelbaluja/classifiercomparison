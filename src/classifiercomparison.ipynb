{
 "cells": [
  {
   "cell_type": "markdown",
   "metadata": {},
   "source": [
    "## General Imports"
   ]
  },
  {
   "cell_type": "code",
   "execution_count": 2,
   "metadata": {},
   "outputs": [],
   "source": [
    "import pandas as pd\n",
    "import sklearn\n",
    "import numpy as np\n",
    "from tqdm import tqdm\n",
    "\n",
    "from sklearn.svm import SVC\n",
    "from sklearn.model_selection import train_test_split, KFold, ParameterGrid\n",
    "from sklearn.metrics import accuracy_score"
   ]
  },
  {
   "cell_type": "markdown",
   "metadata": {},
   "source": [
    "### SVM"
   ]
  },
  {
   "cell_type": "code",
   "execution_count": 3,
   "metadata": {},
   "outputs": [],
   "source": [
    "POSITIVE_LETTERS = ['A', 'B', 'C', 'D', 'E', 'F', 'G', 'H', 'I', 'J', 'K', 'L', 'M']"
   ]
  },
  {
   "cell_type": "code",
   "execution_count": 4,
   "metadata": {},
   "outputs": [],
   "source": [
    "# Import letter recognition data, transform label, and convert to array\n",
    "letter_df = pd.read_csv('../data/letter-recognition.data', names=np.arange(1,18))\n",
    "letter_df[1] = letter_df[1].apply(lambda letter: 1 if letter in POSITIVE_LETTERS else -1)\n",
    "letter_data = letter_df.values"
   ]
  },
  {
   "cell_type": "code",
   "execution_count": 5,
   "metadata": {},
   "outputs": [],
   "source": [
    "# Create SVM classifier for letter recognition data\n",
    "# NOTE: Use pipeline to scale first\n"
   ]
  },
  {
   "cell_type": "code",
   "execution_count": 6,
   "metadata": {},
   "outputs": [],
   "source": [
    "X, y = letter_data[:, 1:], letter_data[:, :1]"
   ]
  },
  {
   "cell_type": "code",
   "execution_count": 7,
   "metadata": {},
   "outputs": [],
   "source": [
    "# Split data\n",
    "# Want to do multiple iterations here\n",
    "X_train, X_test, y_train, y_test = train_test_split(X, y, train_size=5000, shuffle=True)\n",
    "kf = KFold(n_splits=5)"
   ]
  },
  {
   "cell_type": "code",
   "execution_count": 8,
   "metadata": {},
   "outputs": [],
   "source": [
    "# Create grid\n",
    "param_grid = {'kernel': ['linear', 'poly', 'rbf'], 'degree': [0, 2, 3], 'C': [1e-7, 1e-6, 1e-5, 1e-4, 1e-3, 1e-2, 1e-1, 1e0, 1e1, 1e2, 1e3]}"
   ]
  },
  {
   "cell_type": "code",
   "execution_count": null,
   "metadata": {},
   "outputs": [
    {
     "name": "stderr",
     "output_type": "stream",
     "text": [
      "  0%|          | 0/99 [00:00<?, ?it/s]\n",
      "0it [00:00, ?it/s]\u001b[A\n",
      "1it [00:00,  2.54it/s]\u001b[A\n",
      "2it [00:00,  2.64it/s]\u001b[A\n",
      "3it [00:01,  2.73it/s]\u001b[A\n",
      "4it [00:01,  2.79it/s]\u001b[A\n",
      "5it [00:01,  2.85it/s]\u001b[A\n",
      "  1%|          | 1/99 [00:01<02:52,  1.76s/it]\n",
      "0it [00:00, ?it/s]\u001b[A\n",
      "1it [00:00,  1.83it/s]\u001b[A\n",
      "2it [00:01,  1.78it/s]\u001b[A\n",
      "3it [00:01,  1.77it/s]\u001b[A\n",
      "4it [00:02,  1.77it/s]\u001b[A\n",
      "5it [00:02,  1.76it/s]\u001b[A\n",
      "  3%|▎         | 3/99 [00:04<02:39,  1.66s/it]\n",
      "0it [00:00, ?it/s]\u001b[A\n",
      "1it [00:00,  2.75it/s]\u001b[A\n",
      "2it [00:00,  2.73it/s]\u001b[A\n",
      "3it [00:01,  2.71it/s]\u001b[A\n",
      "4it [00:01,  2.66it/s]\u001b[A\n",
      "5it [00:01,  2.64it/s]\u001b[A\n",
      "  5%|▌         | 5/99 [00:06<02:15,  1.44s/it]\n",
      "0it [00:00, ?it/s]\u001b[A\n",
      "1it [00:00,  2.60it/s]\u001b[A\n",
      "2it [00:00,  2.54it/s]\u001b[A\n",
      "3it [00:01,  2.54it/s]\u001b[A\n",
      "4it [00:01,  2.50it/s]\u001b[A\n",
      "5it [00:02,  2.49it/s]\u001b[A\n",
      "  8%|▊         | 8/99 [00:08<01:50,  1.21s/it]\n",
      "0it [00:00, ?it/s]\u001b[A\n",
      "1it [00:00,  2.95it/s]\u001b[A\n",
      "2it [00:00,  2.90it/s]\u001b[A\n",
      "3it [00:01,  2.86it/s]\u001b[A"
     ]
    }
   ],
   "source": [
    "# Cycle across each param combo\n",
    "performance_dict = {}\n",
    "for param_dict in tqdm(list(ParameterGrid(param_grid))):\n",
    "    performance = 0\n",
    "    C, degree, kernel = param_dict.values()\n",
    "    if (kernel in ('linear', 'rbf') and degree > 0) or (kernel == 'poly' and degree == 0): \n",
    "        continue\n",
    "    # Do k fold validation\n",
    "    for train, validate in tqdm(kf.split(X_train)):\n",
    "        X_train_cross, X_val_cross, y_train_cross, y_val_cross = X_train[train], X_train[validate], y_train[train], y_train[validate] # get data folds\n",
    "        svm_letter = SVC(C=C, degree=degree, kernel=kernel) # create the model\n",
    "        svm_letter.fit(X_train_cross, y_train_cross.ravel()) # fit the model\n",
    "        y_val_cross_pred = svm_letter.predict(X_val_cross) # predict validation data\n",
    "        performance += accuracy_score(y_val_cross, y_val_cross_pred) # keep track of performance\n",
    "    # Average the performance\n",
    "    performance /= 5\n",
    "    \n",
    "    # Add performance info to dict\n",
    "    performance_dict[(C, degree, kernel)] = performance"
   ]
  },
  {
   "cell_type": "code",
   "execution_count": null,
   "metadata": {},
   "outputs": [],
   "source": [
    "performance_dict"
   ]
  },
  {
   "cell_type": "code",
   "execution_count": 66,
   "metadata": {},
   "outputs": [
    {
     "data": {
      "text/plain": [
       "SVC(C=1.0, break_ties=False, cache_size=200, class_weight=None, coef0=0.0,\n",
       "    decision_function_shape='ovr', degree=3, gamma='scale', kernel='rbf',\n",
       "    max_iter=-1, probability=False, random_state=None, shrinking=True,\n",
       "    tol=0.001, verbose=False)"
      ]
     },
     "execution_count": 66,
     "metadata": {},
     "output_type": "execute_result"
    }
   ],
   "source": [
    "svm_letter.fit(X_train, y_train.ravel())"
   ]
  },
  {
   "cell_type": "code",
   "execution_count": 67,
   "metadata": {},
   "outputs": [
    {
     "data": {
      "text/plain": [
       "0.8926"
      ]
     },
     "execution_count": 67,
     "metadata": {},
     "output_type": "execute_result"
    }
   ],
   "source": [
    "y_train_pred = svm_letter.predict(X_train)\n",
    "accuracy_score(y_train, y_train_pred)"
   ]
  },
  {
   "cell_type": "code",
   "execution_count": 68,
   "metadata": {},
   "outputs": [
    {
     "data": {
      "text/plain": [
       "0.8721333333333333"
      ]
     },
     "execution_count": 68,
     "metadata": {},
     "output_type": "execute_result"
    }
   ],
   "source": [
    "y_test_pred = svm_letter.predict(X_test)\n",
    "accuracy_score(y_test, y_test_pred)"
   ]
  },
  {
   "cell_type": "code",
   "execution_count": 9,
   "metadata": {},
   "outputs": [
    {
     "name": "stderr",
     "output_type": "stream",
     "text": [
      "100%|██████████| 99/99 [00:00<00:00, 92956.37it/s]\n"
     ]
    }
   ],
   "source": [
    "for i in tqdm(list(ParameterGrid(param_grid))):\n",
    "    pass"
   ]
  },
  {
   "cell_type": "code",
   "execution_count": null,
   "metadata": {},
   "outputs": [],
   "source": []
  }
 ],
 "metadata": {
  "kernelspec": {
   "display_name": "Python 3",
   "language": "python",
   "name": "python3"
  },
  "language_info": {
   "codemirror_mode": {
    "name": "ipython",
    "version": 3
   },
   "file_extension": ".py",
   "mimetype": "text/x-python",
   "name": "python",
   "nbconvert_exporter": "python",
   "pygments_lexer": "ipython3",
   "version": "3.8.5"
  }
 },
 "nbformat": 4,
 "nbformat_minor": 4
}
