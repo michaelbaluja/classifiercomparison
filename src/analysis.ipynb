{
 "cells": [
  {
   "cell_type": "markdown",
   "metadata": {},
   "source": [
    "# General Imports"
   ]
  },
  {
   "cell_type": "code",
   "execution_count": 41,
   "metadata": {},
   "outputs": [],
   "source": [
    "import pandas as pd\n",
    "import pickle\n",
    "import numpy as np\n",
    "import seaborn as sns\n",
    "\n",
    "from scipy.stats import ttest_ind\n",
    "from itertools import combinations"
   ]
  },
  {
   "cell_type": "markdown",
   "metadata": {},
   "source": [
    "# Loading Data"
   ]
  },
  {
   "cell_type": "code",
   "execution_count": null,
   "metadata": {},
   "outputs": [],
   "source": [
    "def load_dict(filename, verbose=False):\n",
    "    '''\n",
    "    Loads dictionary of metrics from given filename\n",
    "    \n",
    "    Args:\n",
    "    - filename (str): file to load\n",
    "    - verbose=False (bool): sepcifies if exact filename should be used. if False, .pickle extension appended to filename if not already present\n",
    "    Return\n",
    "    - dictionary (dict): data found in file\n",
    "    - None (None): return None val in case exception is raised and dictionary file does not exist\n",
    "    '''\n",
    "    if (not verbose) and ('.pickle' not in filename):\n",
    "        filename += '.pickle'\n",
    "\n",
    "    try:\n",
    "        with open(filename, 'rb') as pickle_file: \n",
    "            dictionary = pickle.load(pickle_file) \n",
    "    except FileNotFoundError as e:\n",
    "        print(e)\n",
    "        return None\n",
    "    \n",
    "    return dictionary"
   ]
  },
  {
   "cell_type": "code",
   "execution_count": null,
   "metadata": {},
   "outputs": [],
   "source": [
    "# Initialize loading variables\n",
    "data_dict = {}\n",
    "datasets = ['yelp', 'sub_ob', 'clickbait']\n",
    "models = ['svm', 'logreg', 'randomforest']\n",
    "index = 2 # Loads final (of 3) data checkpoint for data\n",
    "\n",
    "# Load data\n",
    "for dataset in datasets:\n",
    "    for model in models:\n",
    "        data_dict[(model, dataset)] = load_dict('../checkpoints/{model}/{model}_{dataset}_{index}'.format(model=model, dataset=dataset, index=index))"
   ]
  },
  {
   "cell_type": "markdown",
   "metadata": {},
   "source": [
    "# Analysis"
   ]
  },
  {
   "cell_type": "code",
   "execution_count": null,
   "metadata": {},
   "outputs": [],
   "source": [
    "TEST_METRICS = ['acc_test', 'precision_test', 'recall_test', 'f1_test']\n",
    "TRAIN_METRICS = ['acc_train', 'precision_train', 'recall_train', 'f1_train']\n",
    "DATASETS = ['yelp', 'sub_ob', 'clickbait']"
   ]
  },
  {
   "cell_type": "markdown",
   "metadata": {},
   "source": [
    "## Test/train set performance (across 3 trials) for each algorithm/dataset combo (Raw + Mean)"
   ]
  },
  {
   "cell_type": "code",
   "execution_count": null,
   "metadata": {},
   "outputs": [],
   "source": [
    "algo_data_test_dict = {}\n",
    "algo_data_train_dict = {}\n",
    "\n",
    "for (algorithm, dataset), metric_dict in data_dict.items():\n",
    "    for metric in TEST_METRICS:\n",
    "        values = [value for index in range(3) for value in metric_dict[(dataset, index)][metric]]\n",
    "        algo_data_test_dict[(algorithm, dataset, metric)] = {'mean': np.mean(values), 'values': values}\n",
    "    for metric in TRAIN_METRICS:\n",
    "        values = [value for index in range(3) for value in metric_dict[(dataset, index)][metric]]\n",
    "        algo_data_train_dict[(algorithm, dataset, metric)] = {'mean': np.mean(values), 'values': values}"
   ]
  },
  {
   "cell_type": "markdown",
   "metadata": {},
   "source": [
    "## Mean test set performance (across 3 trials x 3 data sets) for each algorithm"
   ]
  },
  {
   "cell_type": "code",
   "execution_count": null,
   "metadata": {},
   "outputs": [],
   "source": [
    "mean_algo_dict = {}\n",
    "\n",
    "for (algorithm, dataset, metric), value_dict in mean_algo_data_dict.items():\n",
    "    try:\n",
    "        mean_algo_dict[(algorithm, metric)].append(value_dict['values'])\n",
    "    except KeyError:\n",
    "        mean_algo_dict[(algorithm, metric)] = value_dict['values']\n",
    "        \n",
    "for key in mean_algo_dict.keys():\n",
    "    mean_algo_dict[key] = np.mean(mean_algo_dict[key])"
   ]
  },
  {
   "cell_type": "markdown",
   "metadata": {},
   "source": [
    "## t-test"
   ]
  },
  {
   "cell_type": "code",
   "execution_count": null,
   "metadata": {},
   "outputs": [],
   "source": [
    "[ttest_ind(combo1['values'], combo2['values']) for combo1, combo2 in combinations(algo_data_test_dict,r=2)]\n",
    "\n",
    "keys, values = algo_data_test_dict.items()\n",
    "\n",
    "for key_1, value_dict_1 in algo_data_test_dict.items():\n",
    "    for key_2, value_dict_2 in algo_data_test_dict.items():\n",
    "        if key_1 != key_2:\n",
    "            stat, p = ttest_ind(value_dict_1['values'], value_dict_2['values'])\n",
    "            print('test: {}\\nstat: {}\\np: {}'.format((key_1, key_2), stat, p))"
   ]
  },
  {
   "cell_type": "markdown",
   "metadata": {},
   "source": [
    "## Heat Map"
   ]
  },
  {
   "cell_type": "code",
   "execution_count": 9,
   "metadata": {},
   "outputs": [],
   "source": [
    "def draw_heatmap(errors, D_list, title):\n",
    "    plt.figure(figsize = (2,4))\n",
    "    ax = sns.heatmap(errors, annot=True, fmt='.3f', yticklabels=D_list, xticklabels=[])\n",
    "    ax.collections[0].colorbar.set_label('error')\n",
    "    ax.set(ylabel='max depth D')\n",
    "    bottom, top = ax.get_ylim()\n",
    "    ax.set_ylim(bottom + 0.5, top - 0.5)\n",
    "    plt.title(title)\n",
    "    plt.show()"
   ]
  },
  {
   "cell_type": "code",
   "execution_count": 29,
   "metadata": {},
   "outputs": [],
   "source": [
    "def get_mean(*lists):\n",
    "    '''\n",
    "    Computes element-wise mean for each element of the passed in lists. \n",
    "    If lists are uneven, shrinks lists to shortest size\n",
    "    Args: \n",
    "    - *lists (list-like): lists to perform averaging over\n",
    "    Returns:\n",
    "    - list of element-wise means\n",
    "    '''\n",
    "    return [np.mean(values) for values in zip(*lists)]\n",
    "\n",
    "assert get_mean([1,2,3], [4,5,6]) == [2.5,3.5,4.5]\n",
    "assert get_mean([1,1,1], []) == []\n",
    "assert get_mean([0,0,0], [2,4,6]) == [1,2,3]"
   ]
  },
  {
   "cell_type": "markdown",
   "metadata": {},
   "source": [
    "### SVM"
   ]
  },
  {
   "cell_type": "code",
   "execution_count": null,
   "metadata": {},
   "outputs": [],
   "source": [
    "# Gets the list of validation performance for each paremeter combo across all data sets and trials for SVM\n",
    "svm_validation_means = get_mean(*[data_dict[('svm', dataset)][('svm', i)]['cv_results']['mean_test_score'] \n",
    "                    for dataset in DATASETS for i in range(3)])"
   ]
  },
  {
   "cell_type": "code",
   "execution_count": null,
   "metadata": {},
   "outputs": [],
   "source": []
  },
  {
   "cell_type": "markdown",
   "metadata": {},
   "source": [
    "### Logistic Regression"
   ]
  },
  {
   "cell_type": "code",
   "execution_count": null,
   "metadata": {},
   "outputs": [],
   "source": []
  },
  {
   "cell_type": "markdown",
   "metadata": {},
   "source": [
    "### Random Forest"
   ]
  },
  {
   "cell_type": "code",
   "execution_count": null,
   "metadata": {},
   "outputs": [],
   "source": []
  }
 ],
 "metadata": {
  "kernelspec": {
   "display_name": "Python 3",
   "language": "python",
   "name": "python3"
  },
  "language_info": {
   "codemirror_mode": {
    "name": "ipython",
    "version": 3
   },
   "file_extension": ".py",
   "mimetype": "text/x-python",
   "name": "python",
   "nbconvert_exporter": "python",
   "pygments_lexer": "ipython3",
   "version": "3.8.5"
  }
 },
 "nbformat": 4,
 "nbformat_minor": 4
}
