{
 "cells": [
  {
   "cell_type": "markdown",
   "metadata": {},
   "source": [
    "# B.2 Results Analysis"
   ]
  },
  {
   "cell_type": "markdown",
   "metadata": {},
   "source": [
    "# General Imports"
   ]
  },
  {
   "cell_type": "code",
   "execution_count": 2,
   "metadata": {},
   "outputs": [],
   "source": [
    "# Analysis\n",
    "from scipy.stats import ttest_ind\n",
    "import pandas as pd\n",
    "import numpy as np\n",
    "\n",
    "# Plotting \n",
    "import seaborn as sns\n",
    "import matplotlib.pyplot as plt\n",
    "\n",
    "# Misc\n",
    "import pickle\n",
    "\n",
    "# Rid of pesky sk-learn version warnings since we aren't using those variables anyway\n",
    "import warnings\n",
    "warnings.filterwarnings(\"ignore\")"
   ]
  },
  {
   "cell_type": "markdown",
   "metadata": {},
   "source": [
    "# Loading Data"
   ]
  },
  {
   "cell_type": "code",
   "execution_count": 3,
   "metadata": {},
   "outputs": [],
   "source": [
    "def load_dict(filename, verbose=False):\n",
    "    '''\n",
    "    Loads dictionary of metrics from given filename\n",
    "    \n",
    "    Params:\n",
    "    - filename (str): file to load\n",
    "    - verbose=False (bool): sepcifies if exact filename should be used. if False, \n",
    "        .pickle extension appended to filename if not already present\n",
    "    Return\n",
    "    - dictionary (dict): data found in file\n",
    "    - None (None): return None val in case exception is raised and dictionary file does not exist\n",
    "    '''\n",
    "    # Add .pickle filetype if necessary and requested\n",
    "    if (not verbose) and ('.pickle' not in filename):\n",
    "        filename += '.pickle'\n",
    "    \n",
    "    # Load file if exists\n",
    "    try:\n",
    "        with open(filename, 'rb') as pickle_file: \n",
    "            dictionary = pickle.load(pickle_file) \n",
    "    except FileNotFoundError as e:\n",
    "        print(e)\n",
    "        return None\n",
    "    \n",
    "    return dictionary"
   ]
  },
  {
   "cell_type": "code",
   "execution_count": 4,
   "metadata": {},
   "outputs": [],
   "source": [
    "# Initialize loading variables\n",
    "data_dict = {}\n",
    "datasets = ['yelp', 'sub_ob', 'clickbait']\n",
    "models = ['SVC', 'LogisticRegression', 'RandomForestClassifier', 'nn']\n",
    "index = 2 # Loads final (of 3) data checkpoint for data\n",
    "\n",
    "# Load data\n",
    "for d in datasets:\n",
    "    for m in models:\n",
    "        data_dict[(m, d)] = load_dict('../checkpoints/{m}/{m}_{d}_{i}'.format(m=m, d=d, i=index))"
   ]
  },
  {
   "cell_type": "markdown",
   "metadata": {},
   "source": [
    "# Analysis"
   ]
  },
  {
   "cell_type": "code",
   "execution_count": 5,
   "metadata": {},
   "outputs": [],
   "source": [
    "TEST_METRICS = ['acc_test', 'precision_test', 'recall_test', 'f1_test']\n",
    "TRAIN_METRICS = ['acc_train', 'precision_train', 'recall_train', 'f1_train']\n",
    "DATASETS = ['yelp', 'sub_ob', 'clickbait']"
   ]
  },
  {
   "cell_type": "markdown",
   "metadata": {},
   "source": [
    "## Test/train set performance (across 3 trials) for each algorithm/dataset combo (Raw + Mean)"
   ]
  },
  {
   "cell_type": "code",
   "execution_count": 6,
   "metadata": {},
   "outputs": [],
   "source": [
    "def round_values(values, round_to=3):\n",
    "    '''\n",
    "    Given a list, or list of list, of values, rounds to a given degree\n",
    "    Beneficial over list comprehension as it works for nested lists as well\n",
    "    \n",
    "    Params:\n",
    "    - values (list-like): values to round\n",
    "    - round_to (int): number of significant digits to round to\n",
    "    \n",
    "    Returns:\n",
    "    - new_vals (list-like): rounded values in original structure\n",
    "    '''\n",
    "    new_vals = []\n",
    "    for value in values:\n",
    "        if type(value) in (list, np.ndarray):\n",
    "            interior_list = []\n",
    "            for val in value:\n",
    "                interior_list.append(round(val, round_to))\n",
    "            new_vals.append(interior_list)\n",
    "        else:\n",
    "            new_vals.append(round(value, 3))\n",
    "    return new_vals"
   ]
  },
  {
   "cell_type": "code",
   "execution_count": 7,
   "metadata": {},
   "outputs": [],
   "source": [
    "# Gather the performance per dataset/algo combo as done in the Caruana paper\n",
    "\n",
    "# Table 1\n",
    "algo_data_test_dict = {}\n",
    "\n",
    "# Table 3\n",
    "algo_data_train_dict = {}\n",
    "\n",
    "for (algorithm, dataset), metric_dict in data_dict.items():\n",
    "    # Table 1\n",
    "    for metric in TEST_METRICS:\n",
    "        # Take the mean to get the precision, recall, and F1 (since not averaged initially)\n",
    "        values = [np.mean(metric_dict[(dataset, index)][metric]) for index in range(3)]\n",
    "        algo_data_test_dict[(algorithm, dataset, metric)] = {'mean': np.mean(values), \n",
    "                                                             'values': values, \n",
    "                                                             'round_values': round_values(values, 3)}\n",
    "    # Table 3\n",
    "    for metric in TRAIN_METRICS:\n",
    "        values = [metric_dict[(dataset, index)][metric] for index in range(3)]\n",
    "        algo_data_train_dict[(algorithm, dataset, metric)] = {'mean': np.mean(values), \n",
    "                                                              'values': values}"
   ]
  },
  {
   "cell_type": "markdown",
   "metadata": {},
   "source": [
    "## Mean test set performance (across 3 trials x 3 data sets) for each algorithm"
   ]
  },
  {
   "cell_type": "code",
   "execution_count": 8,
   "metadata": {},
   "outputs": [],
   "source": [
    "# Gather the performance per algorithm\n",
    "# First gathers all values (for ttest), and then averages (for table)\n",
    "\n",
    "# Table 2 p-values\n",
    "overall_algo_dict = {}\n",
    "\n",
    "# Table 2 results\n",
    "mean_algo_dict = {}\n",
    "\n",
    "# Gather data\n",
    "for (algorithm, dataset, metric), value_dict in algo_data_test_dict.items():\n",
    "    try:\n",
    "        [overall_algo_dict[(algorithm, metric)].append(value) for value in value_dict['values']]\n",
    "    except KeyError:\n",
    "        overall_algo_dict[(algorithm, metric)] = value_dict['values']\n",
    "        \n",
    "# Average values for each algorithm\n",
    "for key in overall_algo_dict.keys():\n",
    "    mean_algo_dict[key] = np.mean(overall_algo_dict[key])"
   ]
  },
  {
   "cell_type": "markdown",
   "metadata": {},
   "source": [
    "## t-test"
   ]
  },
  {
   "cell_type": "code",
   "execution_count": null,
   "metadata": {},
   "outputs": [],
   "source": [
    "# Get the information on the best performance per metric in order to compute t-tests\n",
    "datasets = ['yelp', 'sub_ob', 'clickbait']\n",
    "best_algo_1_dict, best_algo_2_dict, best_algo_3_dict = {}, {}, {}\n",
    "\n",
    "# Table 5 - Table 1 p-values\n",
    "best_algo_1_dict['acc_test'] = [np.mean(value) for value \n",
    "                                in algo_data_test_dict[('nn', 'clickbait', 'acc_test')]['values']]\n",
    "best_algo_1_dict['precision_test'] = [np.mean(value) for value \n",
    "                                      in algo_data_test_dict[('nn', 'clickbait', 'precision_test')]['values']]\n",
    "best_algo_1_dict['recall_test'] = [np.mean(value) for value \n",
    "                                   in algo_data_test_dict[('nn', 'sub_ob', 'recall_test')]['values']]\n",
    "best_algo_1_dict['f1_test'] = [np.mean(value) for value \n",
    "                               in algo_data_test_dict[('nn', 'clickbait', 'f1_test')]['values']]\n",
    "\n",
    "# Table 6 - Table 2 p-values\n",
    "best_algo_2_dict['acc_test'] = overall_algo_dict[('nn', 'acc_test')]\n",
    "best_algo_2_dict['precision_test'] = overall_algo_dict[('nn', 'precision_test')]\n",
    "best_algo_2_dict['recall_test'] = overall_algo_dict[('nn', 'recall_test')]\n",
    "best_algo_2_dict['f1_test'] = overall_algo_dict[('nn', 'f1_test')]\n",
    "\n",
    "# Table 7 - Table 3 p-values\n",
    "best_algo_3_dict['acc_train'] = [np.mean(value) for value \n",
    "                                 in algo_data_train_dict[('nn', 'clickbait', 'acc_train')]['values']]\n",
    "best_algo_3_dict['precision_train'] = [np.mean(value) for value \n",
    "                                       in algo_data_train_dict[('nn', 'clickbait', 'precision_train')]['values']]\n",
    "best_algo_3_dict['recall_train'] = [np.mean(value) for value \n",
    "                                    in algo_data_train_dict[('nn', 'clickbait', 'recall_train')]['values']]\n",
    "best_algo_3_dict['f1_train'] = [np.mean(value) for value \n",
    "                                in algo_data_train_dict[('nn', 'clickbait', 'f1_train')]['values']]"
   ]
  },
  {
   "cell_type": "code",
   "execution_count": null,
   "metadata": {},
   "outputs": [],
   "source": [
    "# Table 5\n",
    "# Compares each trial to best performance for each metric\n",
    "# Loops through all metrics to avoid having to restructure data\n",
    "for best_metric, best_values in best_algo_1_dict.items():\n",
    "    for (model, dataset, metric), value_dict in algo_data_test_dict.items():\n",
    "        if best_metric == metric:\n",
    "            stat, p = ttest_ind(value_dict['values'], best_values)\n",
    "            if 0.05 < p < 1:\n",
    "                print('test: {}\\np: {}\\n'.format((model, dataset, metric), p))"
   ]
  },
  {
   "cell_type": "code",
   "execution_count": null,
   "metadata": {},
   "outputs": [],
   "source": [
    "# Table 6\n",
    "# Compares each trial to best performance for each metric\n",
    "for best_metric, best_values in best_algo_2_dict.items():\n",
    "    for (algorithm, metric), value_dict in overall_algo_dict.items():\n",
    "        if best_metric == metric:\n",
    "            stat, p = ttest_ind(value_dict, best_values)\n",
    "            print('test: {}\\np: {}\\n'.format((algorithm, metric), p))"
   ]
  },
  {
   "cell_type": "code",
   "execution_count": null,
   "metadata": {},
   "outputs": [],
   "source": [
    "# Table \"7\"\n",
    "# Compares each trial to best performance for each metric\n",
    "for best_metric, best_values in best_algo_3_dict.items():\n",
    "    for (model, dataset, metric), value_dict in algo_data_test_dict.items():\n",
    "        if best_metric == metric:\n",
    "            stat, p = ttest_ind(value_dict['values'], best_values)\n",
    "            if 0.05 < p < 1:\n",
    "                print(model, dataset, metric)\n",
    "                #print('test: {}\\nstat: {}\\np: {}'.format((model, dataset, metric), stat, p))\n",
    "\n",
    "# Note that there is no table 7 in the paper, but this was done to see if there would be any statistical significance \n",
    "# during training, even though training performance doesn't mean much in comparison to testing performance"
   ]
  },
  {
   "cell_type": "markdown",
   "metadata": {},
   "source": [
    "## Heat Maps"
   ]
  },
  {
   "cell_type": "code",
   "execution_count": 59,
   "metadata": {},
   "outputs": [],
   "source": [
    "def draw_heatmap_1d(accuracies, params, title, ylabel='', save_loc=None):\n",
    "    '''\n",
    "    Plots a 1D heatmap over the listed values\n",
    "    \n",
    "    Params:\n",
    "    - accuracies (list-like): accuracy values to plot\n",
    "    - params (list-like): parameter titles to map accuracy to\n",
    "    - title (str): title of the plot\n",
    "    - ylabel='' (str): title of the y-axis\n",
    "    - save_loc=None (str): specifies where the plot should be saved\n",
    "    '''\n",
    "    # Set up the plot\n",
    "    plt.figure(figsize = (2,4))\n",
    "    ax = sns.heatmap(accuracies, annot=True, fmt='.3f', yticklabels=params, xticklabels=[])\n",
    "    ax.collections[0].colorbar.set_label('Accuracy')\n",
    "    bottom, top = ax.get_ylim()\n",
    "    ax.set_ylim(bottom + 0.5, top - 0.5)\n",
    "    \n",
    "    # Add titles\n",
    "    plt.title(title)\n",
    "    ax.set(ylabel=ylabel)\n",
    "    \n",
    "    # Save and display\n",
    "    if save_loc:\n",
    "        plt.savefig(save_loc)\n",
    "        \n",
    "    plt.show()"
   ]
  },
  {
   "cell_type": "code",
   "execution_count": 51,
   "metadata": {},
   "outputs": [],
   "source": [
    "def draw_heatmap_2d(accuracies, dim, x_ticklabels, y_ticklabels, x_label='', y_label='', title='', save_loc=None):\n",
    "    '''\n",
    "    Plots a 2D heatmap over the listed accuracies\n",
    "    \n",
    "    Params:\n",
    "    - accuracies (list-like): accuracy values to plot\n",
    "    - dim (list-like): x, y dimensions\n",
    "    - x_ticklabels (list-like): list of x-axis value labels\n",
    "    - y_ticklabels (list-like): list of y-axis value labels\n",
    "    - x_label (str): label for x-axis\n",
    "    - y_label (str): label for y_axis\n",
    "    - title (str): title of the plot\n",
    "    - save_loc (str): location to save plot to, if not None\n",
    "    '''\n",
    "    # Set up the plot\n",
    "    ax = sns.heatmap(np.array(accuracies).reshape(dim[0], dim[1]), annot=True)\n",
    "    ax.collections[0].colorbar.set_label('Accuracy')\n",
    "    bottom, top = ax.get_ylim()\n",
    "    ax.set_ylim(bottom + 0.5, top - 0.5)\n",
    "\n",
    "    # X titles\n",
    "    ax.set_xticklabels(x_ticklabels)\n",
    "    ax.set_xlabel(x_label)\n",
    "\n",
    "    # Y titles\n",
    "    ax.set_yticklabels(y_ticklabels)\n",
    "    ax.set_ylabel(y_label)\n",
    "    plt.yticks(rotation=0)\n",
    "    \n",
    "    # Title\n",
    "    plt.title(title)\n",
    "    \n",
    "    # Save and display\n",
    "    if save_loc:\n",
    "        plt.savefig(save_loc, bbox_inches='tight')\n",
    "        \n",
    "    plt.show()"
   ]
  },
  {
   "cell_type": "code",
   "execution_count": 10,
   "metadata": {},
   "outputs": [],
   "source": [
    "def get_mean(*lists):\n",
    "    '''\n",
    "    Computes element-wise mean for each element of the passed in lists. \n",
    "    If lists are uneven, shrinks lists to shortest size\n",
    "    \n",
    "    Params: \n",
    "    - *lists (list-like): lists to perform averaging over\n",
    "    Returns:\n",
    "    - list of element-wise means\n",
    "    '''\n",
    "    return [np.mean(values) for values in zip(*lists)]\n",
    "\n",
    "assert get_mean([1,2,3], [4,5,6]) == [2.5,3.5,4.5]\n",
    "assert get_mean([1,1,1], []) == []\n",
    "assert get_mean([0,0,0], [2,4,6]) == [1,2,3]"
   ]
  },
  {
   "cell_type": "markdown",
   "metadata": {},
   "source": [
    "## Logistic Regression"
   ]
  },
  {
   "cell_type": "code",
   "execution_count": 60,
   "metadata": {},
   "outputs": [
    {
     "data": {
      "image/png": "[encoded data removed]",
      "text/plain": [
       "<Figure size 144x288 with 2 Axes>"
      ]
     },
     "metadata": {
      "needs_background": "light"
     },
     "output_type": "display_data"
    }
   ],
   "source": [
    "# Gets the list of validation performance for each paremeter combo across all data sets and trials for Logistic Regression\n",
    "logreg_validation_means = get_mean(*[data_dict[('LogisticRegression', dataset)][(dataset, i)]['cv_results']['mean_test_score'] \n",
    "                    for dataset in DATASETS for i in range(3)])[:-1]\n",
    "\n",
    "logreg_params = [str(value) for value in [1e-08, 1e-07, 1e-06, 1e-05, 0.0001, 0.001, 0.01,\n",
    "                                  0.1, 1.0, 10.0, 100.0, 1000.0, 10000.0]]\n",
    "draw_heatmap_1d(accuracies=np.array(logreg_validation_means).reshape(13,1), \n",
    "             params=logreg_params, \n",
    "             title='Logistic Regression\\nRegularized', \n",
    "             ylabel='C',\n",
    "             save_loc='../images/LogisticRegression/LogisticRegression_regularizations.png')"
   ]
  },
  {
   "cell_type": "markdown",
   "metadata": {},
   "source": [
    "## Random Forest"
   ]
  },
  {
   "cell_type": "code",
   "execution_count": 56,
   "metadata": {},
   "outputs": [
    {
     "data": {
      "image/png": "[encoded data removed]",
      "text/plain": [
       "<Figure size 144x288 with 2 Axes>"
      ]
     },
     "metadata": {
      "needs_background": "light"
     },
     "output_type": "display_data"
    },
    {
     "data": {
      "text/plain": [
       "<Figure size 432x288 with 0 Axes>"
      ]
     },
     "metadata": {},
     "output_type": "display_data"
    }
   ],
   "source": [
    "# Gets the list of validation performance for each paremeter combo across all data sets and trials for Random Forest\n",
    "rf_validation_means = get_mean(*[data_dict[('RandomForestClassifier', dataset)][(dataset, i)]['cv_results']['mean_test_score'] \n",
    "                    for dataset in DATASETS for i in range(3)])[:-1]\n",
    "\n",
    "rf_params = [str(value) for value in [256, 512, 1024, 2048, 4096, 8192]]\n",
    "draw_heatmap_1d(accuracies=np.array(rf_validation_means).reshape(6,1), \n",
    "             params=rf_params, \n",
    "             title='Random Forest\\nBy Tree #',\n",
    "             ylabel='# Trees',\n",
    "             save_loc='../images/RandomForestClassifier/RandomForestClassifier_trees.png')"
   ]
  },
  {
   "cell_type": "markdown",
   "metadata": {},
   "source": [
    "## SVM"
   ]
  },
  {
   "cell_type": "code",
   "execution_count": 12,
   "metadata": {},
   "outputs": [],
   "source": [
    "C_vals = [1e-7, 1e-6, 1e-5, 1e-4, 1e-3, 1e-2, 1e-1, 1e0, 1e1, 1e2, 1e3]"
   ]
  },
  {
   "cell_type": "markdown",
   "metadata": {},
   "source": [
    "### Linear"
   ]
  },
  {
   "cell_type": "code",
   "execution_count": 55,
   "metadata": {},
   "outputs": [
    {
     "data": {
      "image/png": "[encoded data removed]",
      "text/plain": [
       "<Figure size 144x288 with 2 Axes>"
      ]
     },
     "metadata": {
      "needs_background": "light"
     },
     "output_type": "display_data"
    },
    {
     "data": {
      "text/plain": [
       "<Figure size 432x288 with 0 Axes>"
      ]
     },
     "metadata": {},
     "output_type": "display_data"
    }
   ],
   "source": [
    "# Gets the list of validation performance for each paremeter combo across all data sets and trials for SVC\n",
    "\n",
    "# Get first 11 results, for 11 linear trials\n",
    "svm_validation_means_linear = get_mean(*[data_dict[('SVC', dataset)][(dataset, i)]['cv_results']['mean_test_score'] \n",
    "                    for dataset in DATASETS for i in range(3)])[:11]\n",
    "svm_params_linear = [str(value) for value in C_vals]\n",
    "\n",
    "draw_heatmap_1d(accuracies=np.array(svm_validation_means_linear).reshape(11,1), \n",
    "             params=svm_params_linear, \n",
    "             title='SVM - Linear', \n",
    "             ylabel='C Value',\n",
    "             save_loc='../images/SVC/SVC_linear.png')"
   ]
  },
  {
   "cell_type": "markdown",
   "metadata": {},
   "source": [
    "### Polynomial"
   ]
  },
  {
   "cell_type": "code",
   "execution_count": 58,
   "metadata": {},
   "outputs": [
    {
     "data": {
      "image/png": "[encoded data removed]",
      "text/plain": [
       "<Figure size 432x288 with 2 Axes>"
      ]
     },
     "metadata": {
      "needs_background": "light"
     },
     "output_type": "display_data"
    }
   ],
   "source": [
    "# Gets the list of validation performance for each paremeter combo across all data sets and trials for SVC\n",
    "\n",
    "# Get 22 poly results (11 trials per poly degree)\n",
    "svm_validation_means_poly = get_mean(*[data_dict[('SVC', dataset)][(dataset, i)]['cv_results']['mean_test_score'] \n",
    "                    for dataset in DATASETS for i in range(3)])[12:34]\n",
    "\n",
    "# Plot \n",
    "x_ticklabels_poly = ['2', '3']\n",
    "y_ticklabels_poly = [str(value) for value in C_vals]\n",
    "\n",
    "draw_heatmap_2d(accuracies=svm_validation_means_poly,\n",
    "               dim=[11, 2],\n",
    "               x_ticklabels=x_ticklabels_poly,\n",
    "               y_ticklabels=y_ticklabels_poly,\n",
    "               x_label='Polynomial Degree',\n",
    "               y_label='C',\n",
    "               title='SVM - Poly',\n",
    "               save_loc='../images/SVC/SVC_poly.png')"
   ]
  },
  {
   "cell_type": "markdown",
   "metadata": {},
   "source": [
    "### Radial "
   ]
  },
  {
   "cell_type": "code",
   "execution_count": 53,
   "metadata": {},
   "outputs": [
    {
     "data": {
      "image/png": "[encoded data removed]",
      "text/plain": [
       "<Figure size 432x288 with 2 Axes>"
      ]
     },
     "metadata": {
      "needs_background": "light"
     },
     "output_type": "display_data"
    }
   ],
   "source": [
    "# Gets the list of validation performance for each paremeter combo across all data sets and trials for SVC\n",
    "\n",
    "# Get 22 poly results (11 trials per poly degree)\n",
    "svm_validation_means_radial = get_mean(*[data_dict[('SVC', dataset)][(dataset, i)]['cv_results']['mean_test_score'] \n",
    "                    for dataset in DATASETS for i in range(3)])[33:]\n",
    "\n",
    "# Plot\n",
    "x_ticklabels_radial = ['0', '1e-3', '5e-3', '1e-2', '5e-2', '1e-1', '5e-1', '1e0', '2e0']\n",
    "y_ticklabels_radial = [str(value) for value in C_vals]\n",
    "\n",
    "draw_heatmap_2d(accuracies=svm_validation_means_radial, \n",
    "                dim=[11, 9], \n",
    "                x_ticklabels=x_ticklabels_radial, \n",
    "                y_ticklabels=y_ticklabels_radial, \n",
    "                x_label='Radial Width', \n",
    "                y_label='C', \n",
    "                title='SVM - Radial',\n",
    "                save_loc='../images/SVC/SVC_radial.png')"
   ]
  }
 ],
 "metadata": {
  "kernelspec": {
   "display_name": "Python 3",
   "language": "python",
   "name": "python3"
  },
  "language_info": {
   "codemirror_mode": {
    "name": "ipython",
    "version": 3
   },
   "file_extension": ".py",
   "mimetype": "text/x-python",
   "name": "python",
   "nbconvert_exporter": "python",
   "pygments_lexer": "ipython3",
   "version": "3.8.5"
  }
 },
 "nbformat": 4,
 "nbformat_minor": 4
}
