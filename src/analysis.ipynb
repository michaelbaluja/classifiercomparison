{
 "cells": [
  {
   "cell_type": "markdown",
   "metadata": {},
   "source": [
    "# General Imports"
   ]
  },
  {
   "cell_type": "code",
   "execution_count": null,
   "metadata": {},
   "outputs": [],
   "source": [
    "import pandas as pd\n",
    "import pickle\n",
    "import numpy as np\n",
    "import seaborn as sns\n",
    "import matplotlib.pyplot as plt\n",
    "\n",
    "from scipy.stats import ttest_ind\n",
    "from itertools import combinations\n",
    "\n",
    "from sklearn.model_selection import ParameterGrid\n",
    "\n",
    "# Rid of pesky sk-learn version warnings since we aren't using those variables anyway\n",
    "import warnings\n",
    "warnings.filterwarnings(\"ignore\")"
   ]
  },
  {
   "cell_type": "markdown",
   "metadata": {},
   "source": [
    "# Loading Data"
   ]
  },
  {
   "cell_type": "code",
   "execution_count": null,
   "metadata": {},
   "outputs": [],
   "source": [
    "def load_dict(filename, verbose=False):\n",
    "    '''\n",
    "    Loads dictionary of metrics from given filename\n",
    "    \n",
    "    Args:\n",
    "    - filename (str): file to load\n",
    "    - verbose=False (bool): sepcifies if exact filename should be used. if False, .pickle extension appended to filename if not already present\n",
    "    Return\n",
    "    - dictionary (dict): data found in file\n",
    "    - None (None): return None val in case exception is raised and dictionary file does not exist\n",
    "    '''\n",
    "    if (not verbose) and ('.pickle' not in filename):\n",
    "        filename += '.pickle'\n",
    "\n",
    "    try:\n",
    "        with open(filename, 'rb') as pickle_file: \n",
    "            dictionary = pickle.load(pickle_file) \n",
    "    except FileNotFoundError as e:\n",
    "        print(e)\n",
    "        return None\n",
    "    \n",
    "    return dictionary"
   ]
  },
  {
   "cell_type": "code",
   "execution_count": null,
   "metadata": {},
   "outputs": [],
   "source": [
    "# Initialize loading variables\n",
    "data_dict = {}\n",
    "datasets = ['yelp', 'sub_ob', 'clickbait']\n",
    "models = ['svm', 'logreg', 'RandomForestClassifier', 'nn']\n",
    "index = 2 # Loads final (of 3) data checkpoint for data\n",
    "\n",
    "# Load data\n",
    "for dataset in datasets:\n",
    "    for model in models:\n",
    "        data_dict[(model, dataset)] = load_dict('../checkpoints/{model}/{model}_{dataset}_{index}'.format(model=model, dataset=dataset, index=index))"
   ]
  },
  {
   "cell_type": "markdown",
   "metadata": {},
   "source": [
    "# Analysis"
   ]
  },
  {
   "cell_type": "code",
   "execution_count": null,
   "metadata": {},
   "outputs": [],
   "source": [
    "TEST_METRICS = ['acc_test', 'precision_test', 'recall_test', 'f1_test']\n",
    "TRAIN_METRICS = ['acc_train', 'precision_train', 'recall_train', 'f1_train']\n",
    "DATASETS = ['yelp', 'sub_ob', 'clickbait']"
   ]
  },
  {
   "cell_type": "markdown",
   "metadata": {},
   "source": [
    "## Test/train set performance (across 3 trials) for each algorithm/dataset combo (Raw + Mean)"
   ]
  },
  {
   "cell_type": "code",
   "execution_count": null,
   "metadata": {},
   "outputs": [],
   "source": [
    "def round_values(values):\n",
    "    new_vals = []\n",
    "    for value in values:\n",
    "        if type(value) in (list, np.ndarray):\n",
    "            interior_list = []\n",
    "            for val in value:\n",
    "                interior_list.append(round(val, 3))\n",
    "            new_vals.append(interior_list)\n",
    "        else:\n",
    "            new_vals.append(round(value, 3))\n",
    "    return new_vals"
   ]
  },
  {
   "cell_type": "code",
   "execution_count": null,
   "metadata": {},
   "outputs": [],
   "source": [
    "# Table 1\n",
    "algo_data_test_dict = {}\n",
    "\n",
    "# Table 3\n",
    "algo_data_train_dict = {}\n",
    "\n",
    "for (algorithm, dataset), metric_dict in data_dict.items():\n",
    "    # Table 1\n",
    "    for metric in TEST_METRICS:\n",
    "        # Take the mean to get the precision, recall, and F1 (since not averaged initially)\n",
    "        values = [np.mean(metric_dict[(dataset, index)][metric]) for index in range(3)]\n",
    "        algo_data_test_dict[(algorithm, dataset, metric)] = {'mean': np.mean(values), \n",
    "                                                             'values': values, \n",
    "                                                             'round_values': round_values(values)}\n",
    "    # Table 3\n",
    "    for metric in TRAIN_METRICS:\n",
    "        values = [metric_dict[(dataset, index)][metric] for index in range(3)]\n",
    "        algo_data_train_dict[(algorithm, dataset, metric)] = {'mean': np.mean(values), \n",
    "                                                              'values': values}"
   ]
  },
  {
   "cell_type": "markdown",
   "metadata": {},
   "source": [
    "## Mean test set performance (across 3 trials x 3 data sets) for each algorithm"
   ]
  },
  {
   "cell_type": "code",
   "execution_count": null,
   "metadata": {},
   "outputs": [],
   "source": [
    "# Table 2 p-values\n",
    "overall_algo_dict = {}\n",
    "\n",
    "# Table 2 results\n",
    "mean_algo_dict = {}\n",
    "\n",
    "for (algorithm, dataset, metric), value_dict in algo_data_test_dict.items():\n",
    "    try:\n",
    "        [overall_algo_dict[(algorithm, metric)].append(value) for value in value_dict['values']]\n",
    "    except KeyError:\n",
    "        overall_algo_dict[(algorithm, metric)] = value_dict['values']\n",
    "        \n",
    "for key in overall_algo_dict.keys():\n",
    "    mean_algo_dict[key] = np.mean(overall_algo_dict[key])"
   ]
  },
  {
   "cell_type": "markdown",
   "metadata": {},
   "source": [
    "## t-test"
   ]
  },
  {
   "cell_type": "code",
   "execution_count": null,
   "metadata": {},
   "outputs": [],
   "source": [
    "# Best algorithms\n",
    "datasets = ['yelp', 'sub_ob', 'clickbait']\n",
    "best_algo_1_dict, best_algo_2_dict, best_algo_3_dict = {}, {}, {}\n",
    "\n",
    "# Table 5 - Table 1 p-values\n",
    "best_algo_1_dict['acc_test'] = [np.mean(value) for value in algo_data_test_dict[('nn', 'clickbait', 'acc_test')]['values']]\n",
    "best_algo_1_dict['precision_test'] = [np.mean(value) for value in algo_data_test_dict[('nn', 'clickbait', 'precision_test')]['values']]\n",
    "best_algo_1_dict['recall_test'] = [np.mean(value) for value in algo_data_test_dict[('nn', 'sub_ob', 'recall_test')]['values']]\n",
    "best_algo_1_dict['f1_test'] = [np.mean(value) for value in algo_data_test_dict[('nn', 'clickbait', 'f1_test')]['values']]\n",
    "\n",
    "# Table 6 - Table 2 p-values\n",
    "best_algo_2_dict['acc_test'] = overall_algo_dict[('nn', 'acc_test')]\n",
    "best_algo_2_dict['precision_test'] = overall_algo_dict[('nn', 'precision_test')]\n",
    "best_algo_2_dict['recall_test'] = overall_algo_dict[('nn', 'recall_test')]\n",
    "best_algo_2_dict['f1_test'] = overall_algo_dict[('nn', 'f1_test')]\n",
    "\n",
    "# Table 7 - Table 3 p-values\n",
    "best_algo_3_dict['acc_train'] = [np.mean(value) for value in algo_data_train_dict[('nn', 'clickbait', 'acc_train')]['values']]\n",
    "best_algo_3_dict['precision_train'] = [np.mean(value) for value in algo_data_train_dict[('nn', 'clickbait', 'precision_train')]['values']]\n",
    "best_algo_3_dict['recall_train'] = [np.mean(value) for value in algo_data_train_dict[('nn', 'clickbait', 'recall_train')]['values']]\n",
    "best_algo_3_dict['f1_train'] = [np.mean(value) for value in algo_data_train_dict[('nn', 'clickbait', 'f1_train')]['values']]"
   ]
  },
  {
   "cell_type": "code",
   "execution_count": null,
   "metadata": {},
   "outputs": [],
   "source": [
    "# Table 5\n",
    "for best_metric, best_values in best_algo_1_dict.items():\n",
    "    for (model, dataset, metric), value_dict in algo_data_test_dict.items():\n",
    "        if best_metric == metric:\n",
    "            stat, p = ttest_ind(value_dict['values'], best_values)\n",
    "            if 0.05 < p < 1:\n",
    "                print('test: {}\\np: {}\\n'.format((model, dataset, metric), p))"
   ]
  },
  {
   "cell_type": "code",
   "execution_count": null,
   "metadata": {},
   "outputs": [],
   "source": [
    "# Table 6\n",
    "for best_metric, best_values in best_algo_2_dict.items():\n",
    "    for (algorithm, metric), value_dict in overall_algo_dict.items():\n",
    "        if best_metric == metric:\n",
    "            stat, p = ttest_ind(value_dict, best_values)\n",
    "            print('test: {}\\np: {}\\n'.format((algorithm, metric), p))"
   ]
  },
  {
   "cell_type": "code",
   "execution_count": null,
   "metadata": {},
   "outputs": [],
   "source": [
    "# Table \"7\"\n",
    "for best_metric, best_values in best_algo_3_dict.items():\n",
    "    for (model, dataset, metric), value_dict in algo_data_test_dict.items():\n",
    "        if best_metric == metric:\n",
    "            stat, p = ttest_ind(value_dict['values'], best_values)\n",
    "            if 0.05 < p < 1:\n",
    "                print(model, dataset, metric)\n",
    "                #print('test: {}\\nstat: {}\\np: {}'.format((model, dataset, metric), stat, p))\n",
    "\n",
    "# Note that there is no table 7 in the paper, but this was done to see if there would be any statistical significance during training,\n",
    "# even though training performance doesn't mean much in comparison to testing performance"
   ]
  },
  {
   "cell_type": "markdown",
   "metadata": {},
   "source": [
    "## Heat Map"
   ]
  },
  {
   "cell_type": "code",
   "execution_count": null,
   "metadata": {},
   "outputs": [],
   "source": [
    "def draw_heatmap(errors, D_list, title):\n",
    "    plt.figure(figsize = (2,4))\n",
    "    ax = sns.heatmap(errors, annot=True, fmt='.3f', yticklabels=D_list, xticklabels=[])\n",
    "    ax.collections[0].colorbar.set_label('error')\n",
    "    ax.set(ylabel='max depth D')\n",
    "    bottom, top = ax.get_ylim()\n",
    "    ax.set_ylim(bottom + 0.5, top - 0.5)\n",
    "    plt.title(title)\n",
    "    plt.show()"
   ]
  },
  {
   "cell_type": "code",
   "execution_count": null,
   "metadata": {},
   "outputs": [],
   "source": [
    "def get_mean(*lists):\n",
    "    '''\n",
    "    Computes element-wise mean for each element of the passed in lists. \n",
    "    If lists are uneven, shrinks lists to shortest size\n",
    "    Args: \n",
    "    - *lists (list-like): lists to perform averaging over\n",
    "    Returns:\n",
    "    - list of element-wise means\n",
    "    '''\n",
    "    return [np.mean(values) for values in zip(*lists)]\n",
    "\n",
    "assert get_mean([1,2,3], [4,5,6]) == [2.5,3.5,4.5]\n",
    "assert get_mean([1,1,1], []) == []\n",
    "assert get_mean([0,0,0], [2,4,6]) == [1,2,3]"
   ]
  },
  {
   "cell_type": "markdown",
   "metadata": {},
   "source": [
    "### SVM"
   ]
  },
  {
   "cell_type": "code",
   "execution_count": null,
   "metadata": {},
   "outputs": [],
   "source": [
    "# Gets the list of validation performance for each paremeter combo across all data sets and trials for SVM\n",
    "svm_validation_means = get_mean(*[data_dict[('svm', dataset)][(dataset, i)]['cv_results']['mean_test_score'] \n",
    "                    for dataset in DATASETS for i in range(3)])\n",
    "\n",
    "c_vals = [1e-7, 1e-6, 1e-5, 1e-4, 1e-3, 1e-2, 1e-1, 1e0, 1e1, 1e2, 1e3]\n",
    "svm_param_grid = list(ParameterGrid({'kernel': ['linear'], 'C': c_vals}))\n",
    "draw_heatmap(svm_validation_means, svm_param_grid, 'test')"
   ]
  },
  {
   "cell_type": "code",
   "execution_count": null,
   "metadata": {},
   "outputs": [],
   "source": []
  },
  {
   "cell_type": "markdown",
   "metadata": {},
   "source": [
    "### Logistic Regression"
   ]
  },
  {
   "cell_type": "code",
   "execution_count": null,
   "metadata": {},
   "outputs": [],
   "source": []
  },
  {
   "cell_type": "markdown",
   "metadata": {},
   "source": [
    "### Random Forest"
   ]
  },
  {
   "cell_type": "code",
   "execution_count": null,
   "metadata": {},
   "outputs": [],
   "source": []
  }
 ],
 "metadata": {
  "kernelspec": {
   "display_name": "Python 3",
   "language": "python",
   "name": "python3"
  },
  "language_info": {
   "codemirror_mode": {
    "name": "ipython",
    "version": 3
   },
   "file_extension": ".py",
   "mimetype": "text/x-python",
   "name": "python",
   "nbconvert_exporter": "python",
   "pygments_lexer": "ipython3",
   "version": "3.8.5"
  }
 },
 "nbformat": 4,
 "nbformat_minor": 4
}
