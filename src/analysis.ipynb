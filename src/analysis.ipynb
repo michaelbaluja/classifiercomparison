{
 "cells": [
  {
   "cell_type": "markdown",
   "metadata": {},
   "source": [
    "# B.2 Results Analysis"
   ]
  },
  {
   "cell_type": "markdown",
   "metadata": {},
   "source": [
    "# General Imports"
   ]
  },
  {
   "cell_type": "code",
   "execution_count": 1,
   "metadata": {},
   "outputs": [],
   "source": [
    "import pandas as pd\n",
    "import pickle\n",
    "import numpy as np\n",
    "import seaborn as sns\n",
    "import matplotlib.pyplot as plt\n",
    "\n",
    "from scipy.stats import ttest_ind\n",
    "from itertools import combinations\n",
    "\n",
    "from sklearn.model_selection import ParameterGrid\n",
    "\n",
    "# Rid of pesky sk-learn version warnings since we aren't using those variables anyway\n",
    "import warnings\n",
    "warnings.filterwarnings(\"ignore\")"
   ]
  },
  {
   "cell_type": "markdown",
   "metadata": {},
   "source": [
    "# Loading Data"
   ]
  },
  {
   "cell_type": "code",
   "execution_count": 2,
   "metadata": {},
   "outputs": [],
   "source": [
    "def load_dict(filename, verbose=False):\n",
    "    '''\n",
    "    Loads dictionary of metrics from given filename\n",
    "    \n",
    "    Args:\n",
    "    - filename (str): file to load\n",
    "    - verbose=False (bool): sepcifies if exact filename should be used. if False, \n",
    "        .pickle extension appended to filename if not already present\n",
    "    Return\n",
    "    - dictionary (dict): data found in file\n",
    "    - None (None): return None val in case exception is raised and dictionary file does not exist\n",
    "    '''\n",
    "    if (not verbose) and ('.pickle' not in filename):\n",
    "        filename += '.pickle'\n",
    "\n",
    "    try:\n",
    "        with open(filename, 'rb') as pickle_file: \n",
    "            dictionary = pickle.load(pickle_file) \n",
    "    except FileNotFoundError as e:\n",
    "        print(e)\n",
    "        return None\n",
    "    \n",
    "    return dictionary"
   ]
  },
  {
   "cell_type": "code",
   "execution_count": 4,
   "metadata": {},
   "outputs": [
    {
     "ename": "UnpicklingError",
     "evalue": "invalid load key, 'v'.",
     "output_type": "error",
     "traceback": [
      "\u001b[0;31m---------------------------------------------------------------------------\u001b[0m",
      "\u001b[0;31mUnpicklingError\u001b[0m                           Traceback (most recent call last)",
      "\u001b[0;32m<ipython-input-4-1b0d346bff55>\u001b[0m in \u001b[0;36m<module>\u001b[0;34m\u001b[0m\n\u001b[1;32m      8\u001b[0m \u001b[0;32mfor\u001b[0m \u001b[0md\u001b[0m \u001b[0;32min\u001b[0m \u001b[0mdatasets\u001b[0m\u001b[0;34m:\u001b[0m\u001b[0;34m\u001b[0m\u001b[0;34m\u001b[0m\u001b[0m\n\u001b[1;32m      9\u001b[0m     \u001b[0;32mfor\u001b[0m \u001b[0mm\u001b[0m \u001b[0;32min\u001b[0m \u001b[0mmodels\u001b[0m\u001b[0;34m:\u001b[0m\u001b[0;34m\u001b[0m\u001b[0;34m\u001b[0m\u001b[0m\n\u001b[0;32m---> 10\u001b[0;31m         \u001b[0mdata_dict\u001b[0m\u001b[0;34m[\u001b[0m\u001b[0;34m(\u001b[0m\u001b[0mm\u001b[0m\u001b[0;34m,\u001b[0m \u001b[0md\u001b[0m\u001b[0;34m)\u001b[0m\u001b[0;34m]\u001b[0m \u001b[0;34m=\u001b[0m \u001b[0mload_dict\u001b[0m\u001b[0;34m(\u001b[0m\u001b[0;34m'../checkpoints/{m}/{m}_{d}_{i}'\u001b[0m\u001b[0;34m.\u001b[0m\u001b[0mformat\u001b[0m\u001b[0;34m(\u001b[0m\u001b[0mm\u001b[0m\u001b[0;34m=\u001b[0m\u001b[0mm\u001b[0m\u001b[0;34m,\u001b[0m \u001b[0md\u001b[0m\u001b[0;34m=\u001b[0m\u001b[0md\u001b[0m\u001b[0;34m,\u001b[0m \u001b[0mi\u001b[0m\u001b[0;34m=\u001b[0m\u001b[0mindex\u001b[0m\u001b[0;34m)\u001b[0m\u001b[0;34m)\u001b[0m\u001b[0;34m\u001b[0m\u001b[0;34m\u001b[0m\u001b[0m\n\u001b[0m",
      "\u001b[0;32m<ipython-input-2-98579829500a>\u001b[0m in \u001b[0;36mload_dict\u001b[0;34m(filename, verbose)\u001b[0m\n\u001b[1;32m     16\u001b[0m     \u001b[0;32mtry\u001b[0m\u001b[0;34m:\u001b[0m\u001b[0;34m\u001b[0m\u001b[0;34m\u001b[0m\u001b[0m\n\u001b[1;32m     17\u001b[0m         \u001b[0;32mwith\u001b[0m \u001b[0mopen\u001b[0m\u001b[0;34m(\u001b[0m\u001b[0mfilename\u001b[0m\u001b[0;34m,\u001b[0m \u001b[0;34m'rb'\u001b[0m\u001b[0;34m)\u001b[0m \u001b[0;32mas\u001b[0m \u001b[0mpickle_file\u001b[0m\u001b[0;34m:\u001b[0m\u001b[0;34m\u001b[0m\u001b[0;34m\u001b[0m\u001b[0m\n\u001b[0;32m---> 18\u001b[0;31m             \u001b[0mdictionary\u001b[0m \u001b[0;34m=\u001b[0m \u001b[0mpickle\u001b[0m\u001b[0;34m.\u001b[0m\u001b[0mload\u001b[0m\u001b[0;34m(\u001b[0m\u001b[0mpickle_file\u001b[0m\u001b[0;34m)\u001b[0m\u001b[0;34m\u001b[0m\u001b[0;34m\u001b[0m\u001b[0m\n\u001b[0m\u001b[1;32m     19\u001b[0m     \u001b[0;32mexcept\u001b[0m \u001b[0mFileNotFoundError\u001b[0m \u001b[0;32mas\u001b[0m \u001b[0me\u001b[0m\u001b[0;34m:\u001b[0m\u001b[0;34m\u001b[0m\u001b[0;34m\u001b[0m\u001b[0m\n\u001b[1;32m     20\u001b[0m         \u001b[0mprint\u001b[0m\u001b[0;34m(\u001b[0m\u001b[0me\u001b[0m\u001b[0;34m)\u001b[0m\u001b[0;34m\u001b[0m\u001b[0;34m\u001b[0m\u001b[0m\n",
      "\u001b[0;31mUnpicklingError\u001b[0m: invalid load key, 'v'."
     ]
    }
   ],
   "source": [
    "# Initialize loading variables\n",
    "data_dict = {}\n",
    "datasets = ['yelp', 'sub_ob', 'clickbait']\n",
    "models = ['SVC', 'LogisticRegression', 'RandomForestClassifier', 'nn']\n",
    "index = 2 # Loads final (of 3) data checkpoint for data\n",
    "\n",
    "# Load data\n",
    "for d in datasets:\n",
    "    for m in models:\n",
    "        data_dict[(m, d)] = load_dict('../checkpoints/{m}/{m}_{d}_{i}'.format(m=m, d=d, i=index))"
   ]
  },
  {
   "cell_type": "markdown",
   "metadata": {},
   "source": [
    "# Analysis"
   ]
  },
  {
   "cell_type": "code",
   "execution_count": null,
   "metadata": {},
   "outputs": [],
   "source": [
    "TEST_METRICS = ['acc_test', 'precision_test', 'recall_test', 'f1_test']\n",
    "TRAIN_METRICS = ['acc_train', 'precision_train', 'recall_train', 'f1_train']\n",
    "DATASETS = ['yelp', 'sub_ob', 'clickbait']"
   ]
  },
  {
   "cell_type": "markdown",
   "metadata": {},
   "source": [
    "## Test/train set performance (across 3 trials) for each algorithm/dataset combo (Raw + Mean)"
   ]
  },
  {
   "cell_type": "code",
   "execution_count": null,
   "metadata": {},
   "outputs": [],
   "source": [
    "def round_values(values):\n",
    "    new_vals = []\n",
    "    for value in values:\n",
    "        if type(value) in (list, np.ndarray):\n",
    "            interior_list = []\n",
    "            for val in value:\n",
    "                interior_list.append(round(val, 3))\n",
    "            new_vals.append(interior_list)\n",
    "        else:\n",
    "            new_vals.append(round(value, 3))\n",
    "    return new_vals"
   ]
  },
  {
   "cell_type": "code",
   "execution_count": null,
   "metadata": {},
   "outputs": [],
   "source": [
    "# Table 1\n",
    "algo_data_test_dict = {}\n",
    "\n",
    "# Table 3\n",
    "algo_data_train_dict = {}\n",
    "\n",
    "for (algorithm, dataset), metric_dict in data_dict.items():\n",
    "    # Table 1\n",
    "    for metric in TEST_METRICS:\n",
    "        # Take the mean to get the precision, recall, and F1 (since not averaged initially)\n",
    "        values = [np.mean(metric_dict[(dataset, index)][metric]) for index in range(3)]\n",
    "        algo_data_test_dict[(algorithm, dataset, metric)] = {'mean': np.mean(values), \n",
    "                                                             'values': values, \n",
    "                                                             'round_values': round_values(values)}\n",
    "    # Table 3\n",
    "    for metric in TRAIN_METRICS:\n",
    "        values = [metric_dict[(dataset, index)][metric] for index in range(3)]\n",
    "        algo_data_train_dict[(algorithm, dataset, metric)] = {'mean': np.mean(values), \n",
    "                                                              'values': values}"
   ]
  },
  {
   "cell_type": "markdown",
   "metadata": {},
   "source": [
    "## Mean test set performance (across 3 trials x 3 data sets) for each algorithm"
   ]
  },
  {
   "cell_type": "code",
   "execution_count": null,
   "metadata": {},
   "outputs": [],
   "source": [
    "# Table 2 p-values\n",
    "overall_algo_dict = {}\n",
    "\n",
    "# Table 2 results\n",
    "mean_algo_dict = {}\n",
    "\n",
    "for (algorithm, dataset, metric), value_dict in algo_data_test_dict.items():\n",
    "    try:\n",
    "        [overall_algo_dict[(algorithm, metric)].append(value) for value in value_dict['values']]\n",
    "    except KeyError:\n",
    "        overall_algo_dict[(algorithm, metric)] = value_dict['values']\n",
    "        \n",
    "for key in overall_algo_dict.keys():\n",
    "    mean_algo_dict[key] = np.mean(overall_algo_dict[key])"
   ]
  },
  {
   "cell_type": "markdown",
   "metadata": {},
   "source": [
    "## t-test"
   ]
  },
  {
   "cell_type": "code",
   "execution_count": null,
   "metadata": {},
   "outputs": [],
   "source": [
    "# Best algorithms\n",
    "datasets = ['yelp', 'sub_ob', 'clickbait']\n",
    "best_algo_1_dict, best_algo_2_dict, best_algo_3_dict = {}, {}, {}\n",
    "\n",
    "# Table 5 - Table 1 p-values\n",
    "best_algo_1_dict['acc_test'] = [np.mean(value) for value \n",
    "                                in algo_data_test_dict[('nn', 'clickbait', 'acc_test')]['values']]\n",
    "best_algo_1_dict['precision_test'] = [np.mean(value) for value \n",
    "                                      in algo_data_test_dict[('nn', 'clickbait', 'precision_test')]['values']]\n",
    "best_algo_1_dict['recall_test'] = [np.mean(value) for value \n",
    "                                   in algo_data_test_dict[('nn', 'sub_ob', 'recall_test')]['values']]\n",
    "best_algo_1_dict['f1_test'] = [np.mean(value) for value \n",
    "                               in algo_data_test_dict[('nn', 'clickbait', 'f1_test')]['values']]\n",
    "\n",
    "# Table 6 - Table 2 p-values\n",
    "best_algo_2_dict['acc_test'] = overall_algo_dict[('nn', 'acc_test')]\n",
    "best_algo_2_dict['precision_test'] = overall_algo_dict[('nn', 'precision_test')]\n",
    "best_algo_2_dict['recall_test'] = overall_algo_dict[('nn', 'recall_test')]\n",
    "best_algo_2_dict['f1_test'] = overall_algo_dict[('nn', 'f1_test')]\n",
    "\n",
    "# Table 7 - Table 3 p-values\n",
    "best_algo_3_dict['acc_train'] = [np.mean(value) for value \n",
    "                                 in algo_data_train_dict[('nn', 'clickbait', 'acc_train')]['values']]\n",
    "best_algo_3_dict['precision_train'] = [np.mean(value) for value \n",
    "                                       in algo_data_train_dict[('nn', 'clickbait', 'precision_train')]['values']]\n",
    "best_algo_3_dict['recall_train'] = [np.mean(value) for value \n",
    "                                    in algo_data_train_dict[('nn', 'clickbait', 'recall_train')]['values']]\n",
    "best_algo_3_dict['f1_train'] = [np.mean(value) for value \n",
    "                                in algo_data_train_dict[('nn', 'clickbait', 'f1_train')]['values']]"
   ]
  },
  {
   "cell_type": "code",
   "execution_count": null,
   "metadata": {},
   "outputs": [],
   "source": [
    "# Table 5\n",
    "for best_metric, best_values in best_algo_1_dict.items():\n",
    "    for (model, dataset, metric), value_dict in algo_data_test_dict.items():\n",
    "        if best_metric == metric:\n",
    "            stat, p = ttest_ind(value_dict['values'], best_values)\n",
    "            if 0.05 < p < 1:\n",
    "                print('test: {}\\np: {}\\n'.format((model, dataset, metric), p))"
   ]
  },
  {
   "cell_type": "code",
   "execution_count": null,
   "metadata": {},
   "outputs": [],
   "source": [
    "# Table 6\n",
    "for best_metric, best_values in best_algo_2_dict.items():\n",
    "    for (algorithm, metric), value_dict in overall_algo_dict.items():\n",
    "        if best_metric == metric:\n",
    "            stat, p = ttest_ind(value_dict, best_values)\n",
    "            print('test: {}\\np: {}\\n'.format((algorithm, metric), p))"
   ]
  },
  {
   "cell_type": "code",
   "execution_count": null,
   "metadata": {},
   "outputs": [],
   "source": [
    "# Table \"7\"\n",
    "for best_metric, best_values in best_algo_3_dict.items():\n",
    "    for (model, dataset, metric), value_dict in algo_data_test_dict.items():\n",
    "        if best_metric == metric:\n",
    "            stat, p = ttest_ind(value_dict['values'], best_values)\n",
    "            if 0.05 < p < 1:\n",
    "                print(model, dataset, metric)\n",
    "                #print('test: {}\\nstat: {}\\np: {}'.format((model, dataset, metric), stat, p))\n",
    "\n",
    "# Note that there is no table 7 in the paper, but this was done to see if there would be any statistical significance \n",
    "# during training, even though training performance doesn't mean much in comparison to testing performance"
   ]
  }
 ],
 "metadata": {
  "kernelspec": {
   "display_name": "Python 3",
   "language": "python",
   "name": "python3"
  },
  "language_info": {
   "codemirror_mode": {
    "name": "ipython",
    "version": 3
   },
   "file_extension": ".py",
   "mimetype": "text/x-python",
   "name": "python",
   "nbconvert_exporter": "python",
   "pygments_lexer": "ipython3",
   "version": "3.7.6"
  }
 },
 "nbformat": 4,
 "nbformat_minor": 4
}
